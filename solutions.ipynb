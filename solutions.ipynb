{
 "cells": [
  {
   "cell_type": "markdown",
   "id": "aea497c4",
   "metadata": {},
   "source": [
    "# Task 1 - Quantum Computing\n",
    "\n",
    "Note, at time of writing task 1 (06/03/2023), there is a bug in the pennylane library which produces an AttributeError when calling the qml.RX,qml.RY functions, detailed at: \n",
    "\n",
    "https://github.com/PennyLaneAI/pennylane/issues/3867\n",
    "\n",
    "Hence, in test-env using autoray 0.6.0"
   ]
  },
  {
   "cell_type": "code",
   "execution_count": 2,
   "id": "72a62736",
   "metadata": {},
   "outputs": [],
   "source": [
    "import pennylane as qml\n",
    "from pennylane import numpy as np"
   ]
  },
  {
   "cell_type": "code",
   "execution_count": 35,
   "id": "77acd895",
   "metadata": {},
   "outputs": [
    {
     "name": "stdout",
     "output_type": "stream",
     "text": [
      "0: ──H─╭●──────────╭SWAP───────────┤     \n",
      "1: ──H─╰X─╭●───────│───────────────┤     \n",
      "2: ──H────╰X─╭●────│──────RX(1.57)─┤  <Z>\n",
      "3: ──H───────╰X─╭●─│───────────────┤     \n",
      "4: ──H──────────╰X─╰SWAP───────────┤     \n"
     ]
    }
   ],
   "source": [
    "circuit1Device = qml.device('default.qubit', wires=5)\n",
    "\n",
    "def wireWiseHadamard(wires: list):\n",
    "    '''Performs hadamard operations on each qubit in the list of wires'''\n",
    "    for wire in wires:\n",
    "        qml.Hadamard(wires=wire)\n",
    "        \n",
    "def pairWiseCNOT(device):\n",
    "    '''performs CNOT operations on pairwise wires in the device for ascending labels, i.e for N \n",
    "    wires, performs CNOT on (0,1), (1,2), ... , (N-1, N)'''\n",
    "    \n",
    "    wires = list(device.wires)\n",
    "    \n",
    "    for wire in range(len(wires)-1):\n",
    "        qml.CNOT(wires=[wire, wire+1])\n",
    "        \n",
    "\n",
    "        \n",
    "@qml.qnode(task1Device)\n",
    "def circuit1(xAxisRotationAngle: float):\n",
    "    \n",
    "    wireWiseHadamard(list(circuit1Device.wires))\n",
    "    pairWiseCNOT(circuit1Device)\n",
    "    qml.SWAP(wires=[0,4])\n",
    "    qml.RX(xAxisRotationAngle, wires=2) #arbitrarily chosen 3rd qubit\n",
    "    return qml.expval(qml.PauliZ(wires=2))\n",
    "\n",
    "    \n",
    "circuit1Drawer = qml.draw(circuit1)\n",
    "print(circuit1Drawer(np.pi/2))\n",
    "\n",
    "    \n",
    "    \n",
    "    "
   ]
  },
  {
   "cell_type": "markdown",
   "id": "bc19e1c8",
   "metadata": {},
   "source": [
    "## Task 1 - Circuit 2 \n",
    "\n",
    "This task requires 6 qubits as we require two ancilla qubits (since we are performing a swap test on two pairs of qubits). "
   ]
  },
  {
   "cell_type": "code",
   "execution_count": 43,
   "id": "658cdf1b",
   "metadata": {},
   "outputs": [
    {
     "name": "stdout",
     "output_type": "stream",
     "text": [
      "0: ──H────────╭SWAP─────────────┤     \n",
      "1: ──RX(1.05)─├SWAP─────────────┤     \n",
      "2: ──H────────│────────╭SWAP────┤     \n",
      "3: ──H────────│────────├SWAP────┤     \n",
      "4: ──H────────╰●─────H─│────────┤  <Z>\n",
      "5: ──H─────────────────╰●─────H─┤  <Z>\n"
     ]
    },
    {
     "data": {
      "text/plain": [
       "tensor([0.5, 1. ], requires_grad=True)"
      ]
     },
     "execution_count": 43,
     "metadata": {},
     "output_type": "execute_result"
    }
   ],
   "source": [
    "circuit2Device = qml.device('default.qubit', wires=6)\n",
    "\n",
    "def swapTest(wires: list, ancilla: int):\n",
    "    qml.Hadamard(wires = ancilla)\n",
    "    \n",
    "    cswapWires = [ancilla] + wires\n",
    "    qml.CSWAP(wires = cswapWires)\n",
    "    qml.Hadamard(wires=ancilla)\n",
    "    \n",
    "    \n",
    "\n",
    "@qml.qnode(circuit2Device)\n",
    "def circuit2():\n",
    "    \n",
    "    qml.Hadamard(wires=0)\n",
    "    qml.RX(np.pi/3, wires = 1)\n",
    "    wireWiseHadamard([2,3])\n",
    "    swapTestq1q2 = swapTest([0,1], 4)\n",
    "    swapTestq3q4 = swapTest([2,3], 5)\n",
    "    return qml.expval(qml.PauliZ(wires=4)), qml.expval(qml.PauliZ(wires=5))\n",
    "\n",
    "\n",
    "circuit2Drawer = qml.draw(circuit2)\n",
    "print(circuit2Drawer())\n",
    "circuit2()\n",
    "#shows that after the prior operations in the circuit, the states |q1>,|q2> \n",
    "#are orthogonal and |q3>, |q4> are colinear (i.e multiples of eachother)"
   ]
  }
 ],
 "metadata": {
  "kernelspec": {
   "display_name": "test-env",
   "language": "python",
   "name": "test-env"
  },
  "language_info": {
   "codemirror_mode": {
    "name": "ipython",
    "version": 3
   },
   "file_extension": ".py",
   "mimetype": "text/x-python",
   "name": "python",
   "nbconvert_exporter": "python",
   "pygments_lexer": "ipython3",
   "version": "3.9.6"
  }
 },
 "nbformat": 4,
 "nbformat_minor": 5
}
