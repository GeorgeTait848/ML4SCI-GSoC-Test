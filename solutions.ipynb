{
 "cells": [
  {
   "cell_type": "markdown",
   "id": "aea497c4",
   "metadata": {},
   "source": [
    "# Task 1 - Quantum Computing\n",
    "\n",
    "Note, at time of writing task 1 (06/03/2023), there is a bug in the pennylane library which produces an AttributeError when calling the qml.RX,qml.RY functions, detailed at: \n",
    "\n",
    "https://github.com/PennyLaneAI/pennylane/issues/3867\n",
    "\n",
    "Hence, in test-env using autoray 0.6.0"
   ]
  },
  {
   "cell_type": "code",
   "execution_count": 3,
   "id": "72a62736",
   "metadata": {},
   "outputs": [],
   "source": [
    "import pennylane as qml\n",
    "from pennylane import numpy as np"
   ]
  },
  {
   "cell_type": "code",
   "execution_count": 17,
   "id": "77acd895",
   "metadata": {},
   "outputs": [
    {
     "name": "stdout",
     "output_type": "stream",
     "text": [
      "0: ──H─╭●──────────╭SWAP───────────┤  <Z>\n",
      "1: ──H─╰X─╭●───────│───────────────┤     \n",
      "2: ──H────╰X─╭●────│──────RX(1.57)─┤     \n",
      "3: ──H───────╰X─╭●─│───────────────┤     \n",
      "4: ──H──────────╰X─╰SWAP───────────┤     \n"
     ]
    }
   ],
   "source": [
    "task1Device = qml.device('default.qubit', wires=5)\n",
    "\n",
    "def wireWiseHadamard(wires: list):\n",
    "    '''Performs hadamard operations on each qubit in the list of wires'''\n",
    "    for wire in wires:\n",
    "        qml.Hadamard(wire)\n",
    "        \n",
    "def pairWiseCNOT(device):\n",
    "    '''performs CNOT operations on pairwise wires in the device for ascending labels, i.e for N \n",
    "    wires, performs CNOT on (0,1), (1,2), ... , (N-1, N)'''\n",
    "    \n",
    "    wires = list(device.wires)\n",
    "    \n",
    "    for wire in range(len(wires)-1):\n",
    "        qml.CNOT(wires=[wire, wire+1])\n",
    "        \n",
    "\n",
    "        \n",
    "@qml.qnode(task1Device)\n",
    "def circuit1(xAxisRotationAngle: float):\n",
    "    \n",
    "    wireWiseHadamard(list(task1Device.wires))\n",
    "    pairWiseCNOT(task1Device)\n",
    "    qml.SWAP(wires=[0,4])\n",
    "    qml.RX(xAxisRotationAngle, wires=2) #arbitrarily chosen 3rd qubit\n",
    "    return qml.expval(qml.PauliZ(wires=0))\n",
    "\n",
    "    \n",
    "drawer = qml.draw(circuit1)\n",
    "print(drawer(np.pi/2))\n",
    "\n",
    "\n",
    "    \n",
    "    \n",
    "    "
   ]
  },
  {
   "cell_type": "markdown",
   "id": "bc19e1c8",
   "metadata": {},
   "source": [
    "## Task 1 - Circuit 2 Plan\n",
    "\n",
    "hadamard gate as in circuit 1\n",
    "rotation as in 1\n",
    "hadamard gates as usual, using the wirewise function\n",
    "\n",
    "swap test - use operations in https://zenodo.org/record/3164691#.YigdGt9MHrB \n",
    "\n",
    "assuming one run of the swap test as there is no reference to number of tests and"
   ]
  }
 ],
 "metadata": {
  "kernelspec": {
   "display_name": "test-env",
   "language": "python",
   "name": "test-env"
  },
  "language_info": {
   "codemirror_mode": {
    "name": "ipython",
    "version": 3
   },
   "file_extension": ".py",
   "mimetype": "text/x-python",
   "name": "python",
   "nbconvert_exporter": "python",
   "pygments_lexer": "ipython3",
   "version": "3.9.6"
  }
 },
 "nbformat": 4,
 "nbformat_minor": 5
}
